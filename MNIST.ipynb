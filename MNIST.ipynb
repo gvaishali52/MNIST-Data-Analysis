{
 "cells": [
  {
   "cell_type": "code",
   "execution_count": 1,
   "metadata": {},
   "outputs": [
    {
     "name": "stdout",
     "output_type": "stream",
     "text": [
      "(42000, 784)\n"
     ]
    }
   ],
   "source": [
    "import numpy as np\n",
    "import pandas as pd\n",
    "import matplotlib.pyplot as plt\n",
    "\n",
    "raw_data = pd.read_csv('MNIST_train.csv')\n",
    "\n",
    "label = raw_data['label']\n",
    "pure_data = raw_data.drop('label', axis=1)\n",
    "print(pure_data.shape)"
   ]
  },
  {
   "cell_type": "code",
   "execution_count": 2,
   "metadata": {},
   "outputs": [
    {
     "data": {
      "image/png": "[encoded data removed]",
      "text/plain": [
       "<Figure size 504x504 with 1 Axes>"
      ]
     },
     "metadata": {
      "needs_background": "light"
     },
     "output_type": "display_data"
    },
    {
     "name": "stdout",
     "output_type": "stream",
     "text": [
      "8\n"
     ]
    }
   ],
   "source": [
    "plt.figure(figsize=(7,7))\n",
    "i=10\n",
    "\n",
    "grid_data = pure_data.iloc[i].to_numpy().reshape(28,28)\n",
    "plt.imshow(grid_data, interpolation = 'none', cmap = 'gray')\n",
    "plt.show()\n",
    "\n",
    "print(label[i])"
   ]
  },
  {
   "cell_type": "code",
   "execution_count": 3,
   "metadata": {},
   "outputs": [
    {
     "name": "stdout",
     "output_type": "stream",
     "text": [
      "(42000, 784)\n"
     ]
    }
   ],
   "source": [
    "#\n",
    "# PCA lamba wala procedure\n",
    "#\n",
    "pure_data = pure_data.head(42000)\n",
    "label = label.head(42000)\n",
    "print(pure_data.shape)"
   ]
  },
  {
   "cell_type": "code",
   "execution_count": 4,
   "metadata": {},
   "outputs": [
    {
     "name": "stdout",
     "output_type": "stream",
     "text": [
      "(42000, 784)\n"
     ]
    }
   ],
   "source": [
    "#data-standardisation\n",
    "\n",
    "from sklearn.preprocessing import StandardScaler\n",
    "standardized_data = StandardScaler().fit_transform(pure_data)\n",
    "print(standardized_data.shape)"
   ]
  },
  {
   "cell_type": "code",
   "execution_count": 5,
   "metadata": {},
   "outputs": [
    {
     "name": "stderr",
     "output_type": "stream",
     "text": [
      "C:\\Users\\Saurabh\\AppData\\Local\\Temp\\ipykernel_12996\\3118307818.py:7: FutureWarning: Calling a ufunc on non-aligned DataFrames (or DataFrame/Series combination). Currently, the indices are ignored and the result takes the index/columns of the first DataFrame. In the future , the DataFrames/Series will be aligned before applying the ufunc.\n",
      "Convert one of the arguments to a NumPy array (eg 'ufunc(df1, np.asarray(df2)') to keep the current behaviour, or align manually (eg 'df1, df2 = df1.align(df2)') before passing to the ufunc to obtain the future behaviour and silence this warning.\n",
      "  covar_matrix = np.matmul(sample_data.T, sample_data)\n"
     ]
    },
    {
     "name": "stdout",
     "output_type": "stream",
     "text": [
      "(784, 784)\n"
     ]
    }
   ],
   "source": [
    "# covariance matrix\n",
    "\n",
    "sample_data = pure_data\n",
    "\n",
    "# matrix mutiply by numpy\n",
    "\n",
    "covar_matrix = np.matmul(sample_data.T, sample_data)\n",
    "\n",
    "print(covar_matrix.shape)\n"
   ]
  },
  {
   "cell_type": "code",
   "execution_count": 6,
   "metadata": {},
   "outputs": [
    {
     "name": "stdout",
     "output_type": "stream",
     "text": [
      "[1.20273218e+10 1.04654646e+11]\n"
     ]
    }
   ],
   "source": [
    "# EIGEN VALUES AND VECTORS\n",
    "\n",
    "# for reducing dimension from 784-D to 2-D \n",
    "# we need two highest eigen values\n",
    "\n",
    "from scipy.linalg import eigh\n",
    "values, vectors = eigh(covar_matrix, eigvals =(782,783))\n",
    "vectors = vectors.T\n",
    "print(values)"
   ]
  },
  {
   "cell_type": "code",
   "execution_count": 7,
   "metadata": {},
   "outputs": [
    {
     "name": "stdout",
     "output_type": "stream",
     "text": [
      "(2, 784) (784, 42000) (2, 42000)\n"
     ]
    }
   ],
   "source": [
    "new_cordinates = np.matmul(vectors, sample_data.T)\n",
    "print(vectors.shape, sample_data.T.shape, new_cordinates.shape)"
   ]
  },
  {
   "cell_type": "code",
   "execution_count": 8,
   "metadata": {},
   "outputs": [
    {
     "name": "stdout",
     "output_type": "stream",
     "text": [
      "   1st Principal  2nd Principal  labls\n",
      "0     496.627364     939.781482    1.0\n",
      "1   -1591.724437    2219.158271    0.0\n",
      "2     670.741316     928.988860    1.0\n",
      "3    -275.255445     707.195978    4.0\n",
      "4   -1804.407765    2327.202031    0.0\n"
     ]
    }
   ],
   "source": [
    "new_cordinates = np.vstack((new_cordinates,label)).T\n",
    "df = pd.DataFrame(data = new_cordinates, columns = ('1st Principal', '2nd Principal', 'labls'))\n",
    "print(df.head())"
   ]
  },
  {
   "cell_type": "code",
   "execution_count": null,
   "metadata": {},
   "outputs": [
    {
     "ename": "",
     "evalue": "",
     "output_type": "error",
     "traceback": [
      "\u001b[1;31mFailed to start the Kernel. \n",
      "Unable to start Kernel 'vaishali (Python 3.10.4)' due to connection timeout. \n",
      "View Jupyter <a href='command:jupyter.viewOutput'>log</a> for further details."
     ]
    }
   ],
   "source": [
    "import seaborn as sns\n",
    "sns.FacetGrid(df, hue='labls', size=6).map(plt.scatter, '1st Principal', '2nd Principal').add_legend()\n",
    "plt.show()"
   ]
  },
  {
   "cell_type": "code",
   "execution_count": null,
   "metadata": {},
   "outputs": [
    {
     "ename": "",
     "evalue": "",
     "output_type": "error",
     "traceback": [
      "\u001b[1;31mFailed to start the Kernel. \n",
      "Unable to start Kernel 'vaishali (Python 3.10.4)' due to connection timeout. \n",
      "View Jupyter <a href='command:jupyter.viewOutput'>log</a> for further details."
     ]
    }
   ],
   "source": [
    "#\n",
    "# PCA using SCI-KIT LEARN ---- chota wala procedure\n",
    "#\n",
    "from sklearn import decomposition\n",
    "pca = decomposition.PCA()"
   ]
  },
  {
   "cell_type": "code",
   "execution_count": null,
   "metadata": {},
   "outputs": [
    {
     "ename": "",
     "evalue": "",
     "output_type": "error",
     "traceback": [
      "\u001b[1;31mFailed to start the Kernel. \n",
      "Unable to start Kernel 'vaishali (Python 3.10.4)' due to connection timeout. \n",
      "View Jupyter <a href='command:jupyter.viewOutput'>log</a> for further details."
     ]
    }
   ],
   "source": [
    "pca.n_components = 2\n",
    "pca_data = pca.fit_transform(sample_data)\n",
    "print(pca_data.shape)"
   ]
  },
  {
   "cell_type": "code",
   "execution_count": null,
   "metadata": {},
   "outputs": [
    {
     "ename": "",
     "evalue": "",
     "output_type": "error",
     "traceback": [
      "\u001b[1;31mFailed to start the Kernel. \n",
      "Unable to start Kernel 'vaishali (Python 3.10.4)' due to connection timeout. \n",
      "View Jupyter <a href='command:jupyter.viewOutput'>log</a> for further details."
     ]
    }
   ],
   "source": [
    "pca_data = np.vstack((pca_data.T,label)).T\n",
    "pca_df = pd.DataFrame(data = pca_data, columns = ('1st Principal', '2nd Principal', 'labls'))\n",
    "sns.FacetGrid(pca_df, hue='labls', size=6).map(plt.scatter, '1st Principal', '2nd Principal').add_legend()\n",
    "plt.show()"
   ]
  },
  {
   "cell_type": "code",
   "execution_count": null,
   "metadata": {},
   "outputs": [
    {
     "ename": "",
     "evalue": "",
     "output_type": "error",
     "traceback": [
      "\u001b[1;31mFailed to interrupt the Kernel. \n",
      "Unable to start Kernel 'vaishali (Python 3.10.4)' due to connection timeout. \n",
      "View Jupyter <a href='command:jupyter.viewOutput'>log</a> for further details."
     ]
    }
   ],
   "source": [
    "#\n",
    "# --------TSNE------ \n",
    "#\n",
    "from sklearn.manifold import TSNE\n",
    "\n",
    "data_1000 = standardized_data[0:42000,:]\n",
    "tsne_label = label[:42000]\n",
    "model = TSNE(n_components=2, random_state=0)\n",
    "\n",
    "tsne_data = model.fit_transform(data_1000)\n",
    "\n",
    "tsne_data = np.vstack((tsne_data.T, tsne_label)).T\n",
    "tsne_df = pd.DataFrame(data=tsne_data, columns=('D1', 'D2', 'Label'))\n",
    "\n",
    "sns.FacetGrid(tsne_df, hue = 'Label', size=6).map(plt.scatter, 'D1', 'D2').add_legend()\n",
    "plt.show()"
   ]
  },
  {
   "cell_type": "code",
   "execution_count": 1,
   "metadata": {},
   "outputs": [
    {
     "name": "stdout",
     "output_type": "stream",
     "text": [
      "Hello World\n"
     ]
    }
   ],
   "source": [
    " print(\"Hello World\")"
   ]
  },
  {
   "cell_type": "code",
   "execution_count": 2,
   "metadata": {},
   "outputs": [
    {
     "name": "stdout",
     "output_type": "stream",
     "text": [
      "('apple', 'banana', 'cherry')\n"
     ]
    }
   ],
   "source": [
    "x = (\"apple\", \"banana\", \"cherry\")\n",
    "print(x)\n"
   ]
  },
  {
   "cell_type": "code",
   "execution_count": null,
   "metadata": {},
   "outputs": [],
   "source": []
  }
 ],
 "metadata": {
  "kernelspec": {
   "display_name": "Python 3",
   "language": "python",
   "name": "python3"
  },
  "language_info": {
   "codemirror_mode": {
    "name": "ipython",
    "version": 3
   },
   "file_extension": ".py",
   "mimetype": "text/x-python",
   "name": "python",
   "nbconvert_exporter": "python",
   "pygments_lexer": "ipython3",
   "version": "3.10.4"
  }
 },
 "nbformat": 4,
 "nbformat_minor": 2
}
